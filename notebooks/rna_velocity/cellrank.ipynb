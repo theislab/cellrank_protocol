{
 "cells": [
  {
   "attachments": {},
   "cell_type": "markdown",
   "id": "0a1042cd",
   "metadata": {},
   "source": [
    "# Application of the VelocityKernel\n",
    "\n",
    "In this analysis, we infer cell-cell transition probabilities using the VelocityKernel and show how to combine two kernels.\n",
    "\n",
    "The corresponding data can be generated through the preprocessing notebooks `velocity/preprocessing.ipynb`, or\n",
    "downloaded driectly from [here](https://figshare.com/ndownloader/files/53395004) and should be\n",
    "saved in `data/spermatogenesis/processed/adata.h5ad`, _i.e._,\n",
    "\n",
    "```bash\n",
    "mkdir -p ../../data/spermatogenesis/processed/\n",
    "wget https://figshare.com/ndownloader/files/53395004 -O ../../data/spermatogenesis/processed/adata.h5ad\n",
    "```"
   ]
  },
  {
   "cell_type": "markdown",
   "id": "a486fec1",
   "metadata": {},
   "source": [
    "## Library imports"
   ]
  },
  {
   "cell_type": "code",
   "execution_count": null,
   "id": "fd119f55-1837-43ca-8368-e12c55652f2b",
   "metadata": {},
   "outputs": [],
   "source": [
    "import anndata as ad\n",
    "import cellrank as cr\n",
    "\n",
    "from crp import DATA_DIR, FIG_DIR"
   ]
  },
  {
   "attachments": {},
   "cell_type": "markdown",
   "id": "b6b48f3e-9560-47d4-bd6d-25aa5db08c13",
   "metadata": {},
   "source": [
    "## General settings"
   ]
  },
  {
   "cell_type": "code",
   "execution_count": null,
   "id": "dd03b8ba",
   "metadata": {},
   "outputs": [],
   "source": [
    "cr.settings.verbosity = 4"
   ]
  },
  {
   "attachments": {},
   "cell_type": "markdown",
   "id": "e2670fad",
   "metadata": {},
   "source": [
    "## Constants"
   ]
  },
  {
   "cell_type": "code",
   "execution_count": null,
   "id": "d83dfd1f-3a26-4e26-a06e-26a975e4a48f",
   "metadata": {},
   "outputs": [],
   "source": [
    "SAVE_FIGURES = False\n",
    "if SAVE_FIGURES:\n",
    "    (FIG_DIR / \"velocitykernel\").mkdir(parents=True, exist_ok=True)\n",
    "\n",
    "FIGURE_FORMATE = \"svg\""
   ]
  },
  {
   "cell_type": "code",
   "execution_count": null,
   "id": "fe887638",
   "metadata": {},
   "outputs": [],
   "source": [
    "SAVE_RESULTS = True\n",
    "if SAVE_RESULTS:\n",
    "    (DATA_DIR / \"spermatogenesis\" / \"results\").mkdir(parents=True, exist_ok=True)"
   ]
  },
  {
   "attachments": {},
   "cell_type": "markdown",
   "id": "01d6a832-9635-4888-8364-3e5736c8d8af",
   "metadata": {},
   "source": [
    "## Data loading"
   ]
  },
  {
   "cell_type": "code",
   "execution_count": null,
   "id": "2baf9be8",
   "metadata": {},
   "outputs": [],
   "source": [
    "adata = ad.io.read_h5ad(DATA_DIR / \"spermatogenesis\" / \"processed\" / \"adata.h5ad\")\n",
    "adata"
   ]
  },
  {
   "attachments": {},
   "cell_type": "markdown",
   "id": "a52d5add-d75b-4e84-8336-e9632460a818",
   "metadata": {},
   "source": [
    "## Data preprocessing"
   ]
  },
  {
   "attachments": {},
   "cell_type": "markdown",
   "id": "813851f0-53a8-4f32-8899-9c9e4083a16c",
   "metadata": {},
   "source": [
    "## VelocityKernel"
   ]
  },
  {
   "cell_type": "markdown",
   "id": "b427b6fd",
   "metadata": {},
   "source": [
    "### Kernel"
   ]
  },
  {
   "cell_type": "code",
   "execution_count": null,
   "id": "9fa31b32",
   "metadata": {},
   "outputs": [],
   "source": [
    "vk = cr.kernels.VelocityKernel(adata)\n",
    "vk.compute_transition_matrix()"
   ]
  },
  {
   "cell_type": "code",
   "execution_count": null,
   "id": "2faa11bf",
   "metadata": {},
   "outputs": [],
   "source": [
    "ck = cr.kernels.ConnectivityKernel(adata).compute_transition_matrix()\n",
    "combined_kernel = 0.8 * vk + 0.2 * ck"
   ]
  }
 ],
 "metadata": {
  "kernelspec": {
   "display_name": "crp-py311",
   "language": "python",
   "name": "python3"
  },
  "language_info": {
   "codemirror_mode": {
    "name": "ipython",
    "version": 3
   },
   "file_extension": ".py",
   "mimetype": "text/x-python",
   "name": "python",
   "nbconvert_exporter": "python",
   "pygments_lexer": "ipython3",
   "version": "3.11.11"
  }
 },
 "nbformat": 4,
 "nbformat_minor": 5
}
